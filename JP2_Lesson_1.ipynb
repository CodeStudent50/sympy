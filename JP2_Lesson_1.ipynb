{
  "nbformat": 4,
  "nbformat_minor": 0,
  "metadata": {
    "kernelspec": {
      "display_name": "Python 3",
      "language": "python",
      "name": "python3"
    },
    "language_info": {
      "codemirror_mode": {
        "name": "ipython",
        "version": 3
      },
      "file_extension": ".py",
      "mimetype": "text/x-python",
      "name": "python",
      "nbconvert_exporter": "python",
      "pygments_lexer": "ipython3",
      "version": "3.7.3"
    },
    "colab": {
      "name": "JP2 Lesson 1.ipynb",
      "provenance": [],
      "collapsed_sections": [],
      "include_colab_link": true
    }
  },
  "cells": [
    {
      "cell_type": "markdown",
      "metadata": {
        "id": "view-in-github",
        "colab_type": "text"
      },
      "source": [
        "<a href=\"https://colab.research.google.com/github/CodeStudent50/sympy/blob/master/JP2_Lesson_1.ipynb\" target=\"_parent\"><img src=\"https://colab.research.google.com/assets/colab-badge.svg\" alt=\"Open In Colab\"/></a>"
      ]
    },
    {
      "cell_type": "markdown",
      "metadata": {
        "id": "6aOBmCxFEdX-",
        "colab_type": "text"
      },
      "source": [
        "![Python](https://colab-notebook-images.s3.amazonaws.com/jp2/SGCC_logo.png)\n",
        "<h1 align=center>Junior Python 2</h1>\n",
        "<h1 align=center>Lesson 1: Welcome back and Recap</h1>"
      ]
    },
    {
      "cell_type": "markdown",
      "metadata": {
        "id": "-gYiSMrjEdYF",
        "colab_type": "text"
      },
      "source": [
        "# 1. Introduction\n",
        "\n",
        "Welcome to Junior Python 2, Code Camper!  \n",
        "\n",
        "In this course, you will improve your skills in applying what you learnt in Junior Python 1, as well as learn more about defining and using your own functions in your programs.\n",
        "\n",
        "## 1.1 The interactive notebook\n",
        "\n",
        "This is an **interactive notebook**, where you will compose and run your code.  \n",
        "You will write code in the grey boxes called **code cells**.\n",
        "\n",
        "**To run code**: \n",
        "1. First click into the code cell (it should be outlined in green). \n",
        "2. Then hold down the <kbd>Control</kbd> key, and tap the <kbd>Enter</kbd> key. This will run the code in that particular cell.  \n",
        "(Alternatively, you can use the <kbd>Run</kbd> button in the toolbar.)  \n",
        "\n",
        "**To add a code cell**:  \n",
        "If you want to add a new code cell, click on the <kbd>**+**</kbd> button in the toolbar.\n",
        "\n",
        "<b>Some other useful keyboard shortcuts for mac:</b>\n",
        "\n",
        "1. Copy: Select what you want to copy, then hold down the <kbd>Command</kbd> key, and tap the <kbd>C</kbd> key.\n",
        "2. Cut: Select what you want to cut, then hold down the <kbd>Command</kbd> key, and tap the <kbd>X</kbd> key.\n",
        "3. Paste: Click where you want to paste, then hold down the <kbd>Command</kbd> key, and tap the <kbd>V</kbd> key.\n",
        "4. Select everything: Hold down the <kbd>Command</kbd> key, and tap the <kbd>A</kbd> key.\n",
        "\n",
        "## 1.2 Course objectives\n",
        "\n",
        "The broad objectives of this course are for you to:  \n",
        "- Know what functions are, how to define and use them, and why they are useful  \n",
        "- Understand function inputs and outputs\n",
        "- Understand variable scope  \n",
        "- Understand abstraction and decomposition, especially in the context of functions  \n",
        "- Strengthen your understanding and application of Junior Python 1 concepts\n",
        "- Get to know Python's turtle graphics module, and check its documentation  \n",
        "\n",
        "## 1.3 Lesson 1 Objectives\n",
        "In this lesson, we will recap about:\n",
        "1. The 5 basic coding tools\n",
        "2. The 4 basic coding symbols\n",
        "3. Variables, Data Types and Operators\n",
        "4. Errors (Name, Type, Syntax)\n",
        "5. Conditions, Relational Operators and Conditionals\n",
        "6. Loops \n",
        "7. Calling Functions such as print(), int(), str(), input(), time.sleep(), random.randint()\n",
        "8. Defining Functions"
      ]
    },
    {
      "cell_type": "markdown",
      "metadata": {
        "id": "toBX-AsVEdYH",
        "colab_type": "text"
      },
      "source": [
        "# 2. Recap Exercises\n",
        "\n",
        "## 2.1 Variables"
      ]
    },
    {
      "cell_type": "code",
      "metadata": {
        "id": "yF4gkLvpEdYI",
        "colab_type": "code",
        "colab": {
          "base_uri": "https://localhost:8080/",
          "height": 71
        },
        "outputId": "7292bd2b-fcda-4d6a-ac03-20040760f018"
      },
      "source": [
        "#1. declare and initialize a variable called example to an integer 50\n",
        "#2. print the value inside the variable example\n",
        "#3. update the variable by increasing the value by 10\n",
        "#4. print the value inside the variable example\n",
        "#5. update the variable by setting the value to a string \"I just changed the data type\"\n",
        "#6. print the value inside the variable example\n",
        "example = 50\n",
        "print(example)\n",
        "example += 10\n",
        "print(example)\n",
        "example = \"I just changed the data type\"\n",
        "print(example)\n",
        "\n",
        "\n",
        "\n"
      ],
      "execution_count": 1,
      "outputs": [
        {
          "output_type": "stream",
          "text": [
            "50\n",
            "60\n",
            "I just changed the data type\n"
          ],
          "name": "stdout"
        }
      ]
    },
    {
      "cell_type": "markdown",
      "metadata": {
        "id": "ZMnAumWEEdYM",
        "colab_type": "text"
      },
      "source": [
        "## 2.2 Input, Casting, Operators"
      ]
    },
    {
      "cell_type": "code",
      "metadata": {
        "id": "w3E1c8gdEdYN",
        "colab_type": "code",
        "colab": {
          "base_uri": "https://localhost:8080/",
          "height": 53
        },
        "outputId": "94b337ec-b0fd-4c9a-cbae-97ed4fda6657"
      },
      "source": [
        "#1. ask the user for a number from 1 to 9\n",
        "#2. store the result in a variable called number\n",
        "#3. update the number by multiplying it by 123 and store the result in a variable called number_2\n",
        "#4. print the statement: \"The number <number> multiplied by 123 is <number_2>\" to the screen\n",
        "number = input(\"Pick a number from 1 to 9\")\n",
        "number_2 = int(number) * 123\n",
        "print(\"The number \"+str(number)+\" multiplied by 123 is \"+str(number_2)+\".\")\n",
        "\n",
        "\n",
        "\n",
        "\n"
      ],
      "execution_count": 7,
      "outputs": [
        {
          "output_type": "stream",
          "text": [
            "Pick a number from 1 to 92\n",
            "The number 2 multiplied by 123 is 246.\n"
          ],
          "name": "stdout"
        }
      ]
    },
    {
      "cell_type": "markdown",
      "metadata": {
        "id": "ziXwL2PdEdYP",
        "colab_type": "text"
      },
      "source": [
        "## 2.3 Conditions and Logical Operators"
      ]
    },
    {
      "cell_type": "code",
      "metadata": {
        "id": "sLK_Jvk9EdYQ",
        "colab_type": "code",
        "colab": {
          "base_uri": "https://localhost:8080/",
          "height": 53
        },
        "outputId": "6253ece6-824e-486f-e48b-89c68a0c2d11"
      },
      "source": [
        "name = \"Godzilla\"\n",
        "age = 999\n",
        "\n",
        "#1. write a condition that asks the question and prints the result: Is the name Godzilla?\n",
        "#2. write a condition that asks the question and prints the result: Is the age less than or equals to 500\n",
        "#3. write a condition that asks the question and prints the result:\n",
        "#Is name not equals to \"Hulk\" or age greater than 500\n",
        "if name == \"Godzilla\":\n",
        "  print(\"True\")\n",
        "else:\n",
        "  print(\"False\")\n",
        "if name != \"Hulk\" or age > 500:\n",
        "  print(\"True\")\n",
        "else:\n",
        "  print(\"False\")\n"
      ],
      "execution_count": 9,
      "outputs": [
        {
          "output_type": "stream",
          "text": [
            "True\n",
            "True\n"
          ],
          "name": "stdout"
        }
      ]
    },
    {
      "cell_type": "markdown",
      "metadata": {
        "id": "OZ4OLuPJEdYT",
        "colab_type": "text"
      },
      "source": [
        "## 2.4 Conditionals"
      ]
    },
    {
      "cell_type": "code",
      "metadata": {
        "id": "4TPPpM82EdYV",
        "colab_type": "code",
        "colab": {
          "base_uri": "https://localhost:8080/",
          "height": 53
        },
        "outputId": "4a2bee8e-0d5e-4df1-ceec-32731fa37508"
      },
      "source": [
        "#1. ask the user what his/her favorite colour is, and store it in a variable colour\n",
        "#2. write a conditional that does the following:\n",
        "#3. if the user inputs \"red\", print a statement: \"red is the colour of tomatoes\"\n",
        "#4. else if the user inputs \"blue\", print a statement: \"blue is the colour of the sea\"\n",
        "#5. else if the user inputs \"yellow\", print a statement: \"yellow is the colour of the sun\"\n",
        "#6. else, print a statement: \"why can't you choose a primary colour?\"\n",
        "colour = input(\"What is your favorite colour?\")\n",
        "if colour == \"red\":\n",
        "  print(\"red is the colour of tomatoes\")\n",
        "elif colour == \"blue\":\n",
        "  print(\"blue is the colour of the sea\")\n",
        "elif colour == \"yellow\":\n",
        "  print(\"yellow is the colour of the sun\")\n",
        "else:\n",
        "  print(\"why can't you choose a primary colour?\")\n",
        "\n",
        "\n"
      ],
      "execution_count": 13,
      "outputs": [
        {
          "output_type": "stream",
          "text": [
            "What is your favorite colour?red\n",
            "red is the colour of tomatoes\n"
          ],
          "name": "stdout"
        }
      ]
    },
    {
      "cell_type": "markdown",
      "metadata": {
        "id": "7VQzb5YoEdYY",
        "colab_type": "text"
      },
      "source": [
        "| Row number   | 1-10 | 11-20 | 21-30 | 31-40 |\n",
        "|--------------|------|-------|-------|-------|\n",
        "| Ticket Price | 200  | 150   | 100   | 50    |"
      ]
    },
    {
      "cell_type": "code",
      "metadata": {
        "id": "nReyZwUpEdYZ",
        "colab_type": "code",
        "colab": {
          "base_uri": "https://localhost:8080/",
          "height": 258
        },
        "outputId": "98acc3a2-6ba6-4652-af1b-c8c9259ab446"
      },
      "source": [
        "#1. The table given above shows the ticket price for a certain row number at a concert\n",
        "#2. ask the user for his row number and store it in a variable called row\n",
        "#3. Write a conditional that does the following:\n",
        "#4. prints the correct ticket price for the given row number\n",
        "#5. else, print the statement: your row is out of this world!\n",
        "row = int(input(\"What is your row number\"))\n",
        "if row > 0:\n",
        "  print(\"pay $200\")\n",
        "elif row > 10:\n",
        "  print(\"pay $150\")\n",
        "elif row > 20:\n",
        "  print(\"pay $100\")\n",
        "elif row > 30:\n",
        "  print(\"pay $50\")\n",
        "else:\n",
        "  print(\"your row is out of this world!\")\n",
        "\n",
        "\n",
        "\n"
      ],
      "execution_count": 18,
      "outputs": [
        {
          "output_type": "stream",
          "text": [
            "What is your row number3491034\n"
          ],
          "name": "stdout"
        },
        {
          "output_type": "error",
          "ename": "TypeError",
          "evalue": "ignored",
          "traceback": [
            "\u001b[0;31m---------------------------------------------------------------------------\u001b[0m",
            "\u001b[0;31mTypeError\u001b[0m                                 Traceback (most recent call last)",
            "\u001b[0;32m<ipython-input-18-beb9748d407e>\u001b[0m in \u001b[0;36m<module>\u001b[0;34m()\u001b[0m\n\u001b[1;32m      5\u001b[0m \u001b[0;31m#5. else, print the statement: your row is out of this world!\u001b[0m\u001b[0;34m\u001b[0m\u001b[0;34m\u001b[0m\u001b[0;34m\u001b[0m\u001b[0m\n\u001b[1;32m      6\u001b[0m \u001b[0mrow\u001b[0m \u001b[0;34m=\u001b[0m \u001b[0minput\u001b[0m\u001b[0;34m(\u001b[0m\u001b[0;34m\"What is your row number\"\u001b[0m\u001b[0;34m)\u001b[0m\u001b[0;34m\u001b[0m\u001b[0;34m\u001b[0m\u001b[0m\n\u001b[0;32m----> 7\u001b[0;31m \u001b[0;32mif\u001b[0m \u001b[0mrow\u001b[0m \u001b[0;34m>\u001b[0m \u001b[0;36m0\u001b[0m\u001b[0;34m:\u001b[0m\u001b[0;34m\u001b[0m\u001b[0;34m\u001b[0m\u001b[0m\n\u001b[0m\u001b[1;32m      8\u001b[0m   \u001b[0mprint\u001b[0m\u001b[0;34m(\u001b[0m\u001b[0;34m\"pay $200\"\u001b[0m\u001b[0;34m)\u001b[0m\u001b[0;34m\u001b[0m\u001b[0;34m\u001b[0m\u001b[0m\n\u001b[1;32m      9\u001b[0m \u001b[0;32melif\u001b[0m \u001b[0mrow\u001b[0m \u001b[0;34m>\u001b[0m \u001b[0;36m10\u001b[0m\u001b[0;34m:\u001b[0m\u001b[0;34m\u001b[0m\u001b[0;34m\u001b[0m\u001b[0m\n",
            "\u001b[0;31mTypeError\u001b[0m: '>' not supported between instances of 'str' and 'int'"
          ]
        }
      ]
    },
    {
      "cell_type": "markdown",
      "metadata": {
        "id": "ZpXlmKhKEdYd",
        "colab_type": "text"
      },
      "source": [
        "## 2.5 Loops (without counter)"
      ]
    },
    {
      "cell_type": "code",
      "metadata": {
        "id": "4h0nk1yfEdYe",
        "colab_type": "code",
        "colab": {}
      },
      "source": [
        "#1. import the random module\n",
        "#2. declare and initialize a variable number with the value 5\n",
        "#3. write a loop that does the following:\n",
        "#4. while the number is greater than or equal to 5,\n",
        "#5. update the variable number with a new random integer between 1 and 9\n",
        "#6. print the variable number\n",
        "\n",
        "\n"
      ],
      "execution_count": null,
      "outputs": []
    },
    {
      "cell_type": "markdown",
      "metadata": {
        "id": "BnPgVLXzEdYh",
        "colab_type": "text"
      },
      "source": [
        "## 2.6 Loops (with counter)"
      ]
    },
    {
      "cell_type": "code",
      "metadata": {
        "id": "9Lp_xJiqEdYi",
        "colab_type": "code",
        "colab": {}
      },
      "source": [
        "#1. declare and initialise a variable count with the value 3\n",
        "#2. write a loop that does the following:\n",
        "#3. while the count variable is less than 100,\n",
        "#4. print all the multiples of 3\n",
        "#5. don't forget to update the count variable\n",
        "\n",
        "\n"
      ],
      "execution_count": null,
      "outputs": []
    },
    {
      "cell_type": "markdown",
      "metadata": {
        "id": "KqDu6rJkEdYq",
        "colab_type": "text"
      },
      "source": [
        "# 3. Functions\n",
        "\n",
        "A function is **a named, reusable sequence of statements that performs a specific task**. In addition to the built-in functions provided by Python, we can **define** our own functions. To use a function, we need to **call it**. Functions allow us to reuse our code, making writing a program shorter and faster."
      ]
    },
    {
      "cell_type": "markdown",
      "metadata": {
        "id": "45ehgy2oEdYr",
        "colab_type": "text"
      },
      "source": [
        "## 3.1 Function (print vs return)"
      ]
    },
    {
      "cell_type": "code",
      "metadata": {
        "id": "a8xPbcgYEdYr",
        "colab_type": "code",
        "colab": {}
      },
      "source": [
        "#Teaching Example\n",
        "\n",
        "def my_add(a, b):\n",
        "    print(a + b)    \n",
        "#    return a + b\n",
        "\n",
        "my_add(2, 8)         \n",
        "\n",
        "my_add(2, 8) + 20\n",
        "\n"
      ],
      "execution_count": null,
      "outputs": []
    },
    {
      "cell_type": "markdown",
      "metadata": {
        "id": "4aF6CYjREdYu",
        "colab_type": "text"
      },
      "source": [
        "## 3.2 Function (no return)"
      ]
    },
    {
      "cell_type": "code",
      "metadata": {
        "id": "aalAGCnbEdYv",
        "colab_type": "code",
        "colab": {}
      },
      "source": [
        "#1. create a function called verse that takes in three parameters: adjective1, adjective2, adjective3\n",
        "#2. print the verse \"Roses are red, Violets are blue, Sugar is sweet, and so are you.\",\n",
        "#3. but instead of \"red\", \"blue\", \"sweet\", use the parameter variables given above\n",
        "#4. call the function and use your own arguments\n",
        "\n",
        "\n",
        "\n"
      ],
      "execution_count": 16,
      "outputs": []
    },
    {
      "cell_type": "markdown",
      "metadata": {
        "id": "yxc6PBAjEdYx",
        "colab_type": "text"
      },
      "source": [
        "## 3.3 Function (return)\n",
        "\n",
        "1. SGD refers to Singapore Dollars\n",
        "2. USD refers to US Dollars"
      ]
    },
    {
      "cell_type": "code",
      "metadata": {
        "id": "xjAunCJlEdYy",
        "colab_type": "code",
        "colab": {}
      },
      "source": [
        "#1. create a function called sgd_to_usd_converter that takes in one parameter: sgd\n",
        "#2. return the value of sgd multiplied by 0.73\n",
        "#3. call the function to find how much usd can be exchanged for 500 sgd and store it in a variable usd\n",
        "#4. print the amount of usd left after USD 48 is spent on a meal and USD 35 spent on transport\n",
        "\n",
        "\n"
      ],
      "execution_count": null,
      "outputs": []
    },
    {
      "cell_type": "markdown",
      "metadata": {
        "id": "JS-24XGkEdY0",
        "colab_type": "text"
      },
      "source": [
        "## 3.4 Function (Battle the Boss)\n",
        "\n",
        "You are battling a boss, and you both start off with 100 health points (hp).\n",
        "\n",
        "Each turn, you have 2 moves to choose from, a water move and a fire move.<br>\n",
        "Each turn, the boss randomly selects a light move and a dark move.\n",
        "\n",
        "IF you choose the water move and the boss chooses the light move, you lose 5 hp and boss loses 15 hp.<br>\n",
        "IF you choose the water move and the boss chooses the dark move, you lose 15 hp and boss loses 5 hp.<br>\n",
        "IF you choose the fire move and hte boss chooses the light move, you lose 15 hp and boss loses 5 hp.<br>\n",
        "IF you choose the fire move and the boss chooses the dark move, you lose 5 hp and boss loses 15 hp.\n",
        "\n",
        "The turns continue until someone drops to 0 hp (or below).\n",
        "\n",
        "Your task is now to create this battling simulation.\n",
        "\n",
        "![Python](https://colab-notebook-images.s3.amazonaws.com/jp2/JP2L1BossBattle.png)"
      ]
    },
    {
      "cell_type": "code",
      "metadata": {
        "id": "-L1souMKEdY1",
        "colab_type": "code",
        "colab": {}
      },
      "source": [
        "#1. Define a function called intro that introduces and gives instructions on how to play this game\n",
        "#2. Define a function called game that includes #3-#8\n",
        "#3. Initialize variables for your hp and boss' hp\n",
        "#4. Create a loop that allows the player to take turns as long as both player and boss have hp greater than 0\n",
        "#5. Each turn, the boss chooses a random move, while the player is asked to choose a move\n",
        "#6. Create conditionals to check the result of the moves and then prints the moves chosen and the result of each move\n",
        "#as well as updating the necessary variables\n",
        "#7. After the loop, create conditionals that checks who won and print that result as well\n",
        "#8. Ask the user if he wants to play again. If he does, call the game function\n",
        "#9. Package the above code into a larger function called boss_battle\n",
        "\n",
        "\n"
      ],
      "execution_count": null,
      "outputs": []
    }
  ]
}